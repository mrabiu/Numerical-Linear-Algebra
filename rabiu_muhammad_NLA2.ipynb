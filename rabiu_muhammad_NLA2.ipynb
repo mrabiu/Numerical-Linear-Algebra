{
 "cells": [
  {
   "cell_type": "markdown",
   "id": "d93a28f8",
   "metadata": {},
   "source": [
    "### Question four"
   ]
  },
  {
   "cell_type": "markdown",
   "id": "d832181e",
   "metadata": {},
   "source": [
    "Suppose we want to fit a line for the following data by solving normal equations $X^{T}X\\begin{pmatrix}\n",
    "m\\\\\n",
    "b\n",
    "\\end{pmatrix}=X^TY$"
   ]
  },
  {
   "cell_type": "code",
   "execution_count": 2,
   "id": "3a657730",
   "metadata": {},
   "outputs": [],
   "source": [
    "import numpy as np\n",
    "import matplotlib.pyplot as plt\n",
    "import pandas as pd\n",
    "from numpy import linalg\n",
    "from numpy import meshgrid\n",
    "from random import random"
   ]
  },
  {
   "cell_type": "code",
   "execution_count": 3,
   "id": "674e4535",
   "metadata": {},
   "outputs": [],
   "source": [
    "x=np.array([1.001,1.002,1.003,1.004,1.005,1.006,1.007])\n",
    "y=np.array([3.665,3.789,3.891,4.022,4.233,5.200,5.329])"
   ]
  },
  {
   "cell_type": "code",
   "execution_count": 4,
   "id": "2d5ced19",
   "metadata": {},
   "outputs": [
    {
     "data": {
      "text/plain": [
       "array([[7.05614, 7.028  ],\n",
       "       [7.028  , 7.     ]])"
      ]
     },
     "execution_count": 4,
     "metadata": {},
     "output_type": "execute_result"
    }
   ],
   "source": [
    "X=np.vstack([x,np.ones(len(x))]).T\n",
    "Y=y\n",
    "X.T@X"
   ]
  },
  {
   "cell_type": "code",
   "execution_count": 5,
   "id": "34eff6c4",
   "metadata": {},
   "outputs": [
    {
     "data": {
      "text/plain": [
       "array([ 291.28571429, -288.14671429])"
      ]
     },
     "execution_count": 5,
     "metadata": {},
     "output_type": "execute_result"
    }
   ],
   "source": [
    "mb=(np.linalg.inv(X.T@X))@(X.T@Y)\n",
    "mb"
   ]
  },
  {
   "cell_type": "markdown",
   "id": "f9937331",
   "metadata": {},
   "source": [
    "Thus, $m\\approx 291.29$ and $b\\approx -288.15$. The corresponding linear equation is $y=291.29x-288.15$"
   ]
  },
  {
   "cell_type": "markdown",
   "id": "6b8f7e76",
   "metadata": {},
   "source": [
    "To find $\\infty$-norm  condition number of the coefficient matrix:"
   ]
  },
  {
   "cell_type": "code",
   "execution_count": 6,
   "id": "07bbc9b3",
   "metadata": {},
   "outputs": [
    {
     "name": "stdout",
     "output_type": "stream",
     "text": [
      "The condition number is : 1012056.1200981922\n"
     ]
    }
   ],
   "source": [
    "cond=np.linalg.cond(X.T@X, p=np.inf)\n",
    "print(\"The condition number is :\",cond)"
   ]
  },
  {
   "cell_type": "markdown",
   "id": "ea57f2d0",
   "metadata": {},
   "source": [
    "The condition number computed is big, indicating that the problem is ill conditioned. Therefore, a small change in the input will lead to a huge change in the output."
   ]
  },
  {
   "cell_type": "markdown",
   "id": "569c532d",
   "metadata": {},
   "source": [
    "### #Question five"
   ]
  },
  {
   "cell_type": "markdown",
   "id": "20bc3534",
   "metadata": {},
   "source": [
    "A planet follows elliptical orbit, which can be represented in Cartesian\n",
    "$(x, y)$ coordinates by equation $ay^2 + bxy+ cx+ dy+ e = x^2$"
   ]
  },
  {
   "cell_type": "markdown",
   "id": "191ee837",
   "metadata": {},
   "source": [
    "5.1"
   ]
  },
  {
   "cell_type": "code",
   "execution_count": 7,
   "id": "62347ad8",
   "metadata": {},
   "outputs": [
    {
     "name": "stdout",
     "output_type": "stream",
     "text": [
      "The condition number is : 821263.535788027\n",
      "{'a': -2.6356254836919106, 'b': 0.1436461825924198, 'c': 0.551446963140279, 'd': 3.222940338105275, 'e': -0.43289427026445537}\n"
     ]
    }
   ],
   "source": [
    "x1 = np.array([1.02, 0.95, 0.87, 0.77, 0.67, 0.56, 0.44, 0.30, 0.16, 0.01])\n",
    "y1 = np.array([0.39, 0.32, 0.27, 0.22, 0.18, 0.15, 0.13, 0.12, 0.13, 0.15])\n",
    "\n",
    "X1=np.vstack([y1**2,x1*y1,x1,y1,np.ones(len(x1))])\n",
    "Y1=x1**2\n",
    "XTX1=X1@X1.T\n",
    "print(\"The condition number is :\",np.linalg.cond(XTX1,np.inf))\n",
    "s1=(np.linalg.inv(XTX1))@(X1@Y1)\n",
    "\n",
    "a,b,c,d,e=s1\n",
    "print({\"a\":a,\"b\":b,\"c\":c,\"d\":d,\"e\":e})"
   ]
  },
  {
   "cell_type": "code",
   "execution_count": 8,
   "id": "a9935bee",
   "metadata": {},
   "outputs": [
    {
     "data": {
      "image/png": "[encoded data removed]",
      "text/plain": [
       "<Figure size 432x288 with 1 Axes>"
      ]
     },
     "metadata": {
      "needs_background": "light"
     },
     "output_type": "display_data"
    }
   ],
   "source": [
    "plt.scatter(x1,y1);"
   ]
  },
  {
   "cell_type": "markdown",
   "id": "156dd9b1",
   "metadata": {},
   "source": [
    "5.2"
   ]
  },
  {
   "cell_type": "code",
   "execution_count": 9,
   "id": "09bb4326",
   "metadata": {},
   "outputs": [
    {
     "name": "stdout",
     "output_type": "stream",
     "text": [
      "The condition number is : 818268.210811201\n",
      "{'a': -2.6356254837137385, 'b': 0.14364618259878625, 'c': 0.5452635312651637, 'd': 3.2058605149745745, 'e': -0.42036069872574444}\n"
     ]
    }
   ],
   "source": [
    "E=np.array(np.random.uniform(-0.005,0.005))\n",
    "\n",
    "x2=x1+E\n",
    "y2=y1+E\n",
    "\n",
    "X2=np.vstack([y2**2,x2*y2,x2,y2,np.ones(len(x2))])\n",
    "Y2=x2**2\n",
    "XTX2=X2@X2.T\n",
    "print(\"The condition number is :\",np.linalg.cond(XTX2,np.inf))\n",
    "I=np.linalg.inv(XTX2)\n",
    "s2=I@(X2@Y2)\n",
    "a2,b2,c2,d2,e2=s2\n",
    "print({\"a\":a2,\"b\":b2,\"c\":c2,\"d\":d2,\"e\":e2})"
   ]
  },
  {
   "cell_type": "markdown",
   "id": "03893763",
   "metadata": {},
   "source": [
    "The small pertubation in the input has caused a huge change in the ouput. This is in accordance with the fact that the problem is ill conditioned as shown before."
   ]
  },
  {
   "cell_type": "code",
   "execution_count": 10,
   "id": "d3232336",
   "metadata": {},
   "outputs": [
    {
     "data": {
      "image/png": "[encoded data removed]",
      "text/plain": [
       "<Figure size 432x288 with 1 Axes>"
      ]
     },
     "metadata": {
      "needs_background": "light"
     },
     "output_type": "display_data"
    }
   ],
   "source": [
    "plt.scatter(x2,y2);"
   ]
  },
  {
   "cell_type": "code",
   "execution_count": null,
   "id": "5e5d4044",
   "metadata": {},
   "outputs": [],
   "source": [
    "\n"
   ]
  }
 ],
 "metadata": {
  "kernelspec": {
   "display_name": "Python 3",
   "language": "python",
   "name": "python3"
  },
  "language_info": {
   "codemirror_mode": {
    "name": "ipython",
    "version": 3
   },
   "file_extension": ".py",
   "mimetype": "text/x-python",
   "name": "python",
   "nbconvert_exporter": "python",
   "pygments_lexer": "ipython3",
   "version": "3.8.8"
  }
 },
 "nbformat": 4,
 "nbformat_minor": 5
}
